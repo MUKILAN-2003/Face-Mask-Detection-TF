{
 "cells": [
  {
   "cell_type": "code",
   "execution_count": 1,
   "id": "b537c55e",
   "metadata": {
    "_cell_guid": "b1076dfc-b9ad-4769-8c92-a6c4dae69d19",
    "_uuid": "8f2839f25d086af736a60e9eeb907d3b93b6e0e5",
    "execution": {
     "iopub.execute_input": "2021-10-22T12:27:41.993350Z",
     "iopub.status.busy": "2021-10-22T12:27:41.991752Z",
     "iopub.status.idle": "2021-10-22T12:27:47.859993Z",
     "shell.execute_reply": "2021-10-22T12:27:47.860568Z",
     "shell.execute_reply.started": "2021-10-22T10:30:11.892166Z"
    },
    "papermill": {
     "duration": 5.884406,
     "end_time": "2021-10-22T12:27:47.860958",
     "exception": false,
     "start_time": "2021-10-22T12:27:41.976552",
     "status": "completed"
    },
    "tags": []
   },
   "outputs": [],
   "source": [
    "import pandas as pd\n",
    "import numpy as np\n",
    "import matplotlib.pyplot as plt\n",
    "%matplotlib inline\n",
    "import seaborn as sns\n",
    "\n",
    "from tensorflow import keras\n",
    "import tensorflow as tf\n",
    "from tensorflow.keras.models import Model\n",
    "\n",
    "from tensorflow.keras.callbacks import EarlyStopping\n",
    "from tensorflow.keras.preprocessing.image import ImageDataGenerator\n",
    "from tensorflow.keras.callbacks import LearningRateScheduler,ReduceLROnPlateau\n",
    "\n",
    "from tensorflow.keras import layers\n",
    "\n",
    "import warnings\n",
    "warnings.filterwarnings(\"ignore\")\n",
    "\n",
    "from tensorflow.keras.applications import MobileNetV2,EfficientNetB0\n",
    "from tensorflow.keras.applications.mobilenet_v2 import preprocess_input"
   ]
  },
  {
   "cell_type": "code",
   "execution_count": 2,
   "id": "38e01d17",
   "metadata": {
    "execution": {
     "iopub.execute_input": "2021-10-22T12:27:47.888809Z",
     "iopub.status.busy": "2021-10-22T12:27:47.888181Z",
     "iopub.status.idle": "2021-10-22T12:27:59.663633Z",
     "shell.execute_reply": "2021-10-22T12:27:59.664020Z",
     "shell.execute_reply.started": "2021-10-22T10:30:11.905777Z"
    },
    "papermill": {
     "duration": 11.792853,
     "end_time": "2021-10-22T12:27:59.664185",
     "exception": false,
     "start_time": "2021-10-22T12:27:47.871332",
     "status": "completed"
    },
    "tags": []
   },
   "outputs": [
    {
     "name": "stdout",
     "output_type": "stream",
     "text": [
      "Found 8982 files belonging to 3 classes.\n",
      "Using 7186 files for training.\n"
     ]
    },
    {
     "name": "stderr",
     "output_type": "stream",
     "text": [
      "2021-10-22 12:27:55.454805: I tensorflow/stream_executor/cuda/cuda_gpu_executor.cc:937] successful NUMA node read from SysFS had negative value (-1), but there must be at least one NUMA node, so returning NUMA node zero\n",
      "2021-10-22 12:27:55.553134: I tensorflow/stream_executor/cuda/cuda_gpu_executor.cc:937] successful NUMA node read from SysFS had negative value (-1), but there must be at least one NUMA node, so returning NUMA node zero\n",
      "2021-10-22 12:27:55.554152: I tensorflow/stream_executor/cuda/cuda_gpu_executor.cc:937] successful NUMA node read from SysFS had negative value (-1), but there must be at least one NUMA node, so returning NUMA node zero\n",
      "2021-10-22 12:27:55.564582: I tensorflow/core/platform/cpu_feature_guard.cc:142] This TensorFlow binary is optimized with oneAPI Deep Neural Network Library (oneDNN) to use the following CPU instructions in performance-critical operations:  AVX2 AVX512F FMA\n",
      "To enable them in other operations, rebuild TensorFlow with the appropriate compiler flags.\n",
      "2021-10-22 12:27:55.565594: I tensorflow/stream_executor/cuda/cuda_gpu_executor.cc:937] successful NUMA node read from SysFS had negative value (-1), but there must be at least one NUMA node, so returning NUMA node zero\n",
      "2021-10-22 12:27:55.566387: I tensorflow/stream_executor/cuda/cuda_gpu_executor.cc:937] successful NUMA node read from SysFS had negative value (-1), but there must be at least one NUMA node, so returning NUMA node zero\n",
      "2021-10-22 12:27:55.567110: I tensorflow/stream_executor/cuda/cuda_gpu_executor.cc:937] successful NUMA node read from SysFS had negative value (-1), but there must be at least one NUMA node, so returning NUMA node zero\n",
      "2021-10-22 12:27:57.588398: I tensorflow/stream_executor/cuda/cuda_gpu_executor.cc:937] successful NUMA node read from SysFS had negative value (-1), but there must be at least one NUMA node, so returning NUMA node zero\n",
      "2021-10-22 12:27:57.589311: I tensorflow/stream_executor/cuda/cuda_gpu_executor.cc:937] successful NUMA node read from SysFS had negative value (-1), but there must be at least one NUMA node, so returning NUMA node zero\n",
      "2021-10-22 12:27:57.590040: I tensorflow/stream_executor/cuda/cuda_gpu_executor.cc:937] successful NUMA node read from SysFS had negative value (-1), but there must be at least one NUMA node, so returning NUMA node zero\n",
      "2021-10-22 12:27:57.590643: I tensorflow/core/common_runtime/gpu/gpu_device.cc:1510] Created device /job:localhost/replica:0/task:0/device:GPU:0 with 15403 MB memory:  -> device: 0, name: Tesla P100-PCIE-16GB, pci bus id: 0000:00:04.0, compute capability: 6.0\n"
     ]
    },
    {
     "name": "stdout",
     "output_type": "stream",
     "text": [
      "Found 8982 files belonging to 3 classes.\n",
      "Using 1796 files for validation.\n"
     ]
    }
   ],
   "source": [
    "train_ds = tf.keras.preprocessing.image_dataset_from_directory('../input/face-mask-detection/Dataset', validation_split=0.2, subset=\"training\", shuffle=True, seed = 2021, labels='inferred', batch_size=32, image_size=(224,224))\n",
    "val_ds = tf.keras.preprocessing.image_dataset_from_directory('../input/face-mask-detection/Dataset', validation_split=0.2, subset=\"validation\", shuffle=True, seed = 2021, labels='inferred', batch_size=32, image_size=(224,224))"
   ]
  },
  {
   "cell_type": "code",
   "execution_count": 3,
   "id": "5383a528",
   "metadata": {
    "execution": {
     "iopub.execute_input": "2021-10-22T12:27:59.694132Z",
     "iopub.status.busy": "2021-10-22T12:27:59.693244Z",
     "iopub.status.idle": "2021-10-22T12:27:59.696602Z",
     "shell.execute_reply": "2021-10-22T12:27:59.696995Z",
     "shell.execute_reply.started": "2021-10-22T10:30:13.022307Z"
    },
    "papermill": {
     "duration": 0.021726,
     "end_time": "2021-10-22T12:27:59.697141",
     "exception": false,
     "start_time": "2021-10-22T12:27:59.675415",
     "status": "completed"
    },
    "tags": []
   },
   "outputs": [
    {
     "data": {
      "text/plain": [
       "['mask_weared_incorrect', 'with_mask', 'without_mask']"
      ]
     },
     "execution_count": 3,
     "metadata": {},
     "output_type": "execute_result"
    }
   ],
   "source": [
    "train_ds.class_names"
   ]
  },
  {
   "cell_type": "code",
   "execution_count": 4,
   "id": "820322da",
   "metadata": {
    "execution": {
     "iopub.execute_input": "2021-10-22T12:27:59.723261Z",
     "iopub.status.busy": "2021-10-22T12:27:59.722422Z",
     "iopub.status.idle": "2021-10-22T12:27:59.724265Z",
     "shell.execute_reply": "2021-10-22T12:27:59.724682Z",
     "shell.execute_reply.started": "2021-10-22T10:30:13.031734Z"
    },
    "papermill": {
     "duration": 0.016446,
     "end_time": "2021-10-22T12:27:59.724796",
     "exception": false,
     "start_time": "2021-10-22T12:27:59.708350",
     "status": "completed"
    },
    "tags": []
   },
   "outputs": [],
   "source": [
    "class_name = ['Incorrect','With_Mask','Without_Mask']"
   ]
  },
  {
   "cell_type": "code",
   "execution_count": 5,
   "id": "07f06e51",
   "metadata": {
    "execution": {
     "iopub.execute_input": "2021-10-22T12:27:59.751230Z",
     "iopub.status.busy": "2021-10-22T12:27:59.750598Z",
     "iopub.status.idle": "2021-10-22T12:28:01.044289Z",
     "shell.execute_reply": "2021-10-22T12:28:01.043829Z",
     "shell.execute_reply.started": "2021-10-22T10:30:13.040825Z"
    },
    "papermill": {
     "duration": 1.308672,
     "end_time": "2021-10-22T12:28:01.044420",
     "exception": false,
     "start_time": "2021-10-22T12:27:59.735748",
     "status": "completed"
    },
    "tags": []
   },
   "outputs": [
    {
     "name": "stderr",
     "output_type": "stream",
     "text": [
      "2021-10-22 12:27:59.780817: I tensorflow/compiler/mlir/mlir_graph_optimization_pass.cc:185] None of the MLIR Optimization Passes are enabled (registered 2)\n"
     ]
    },
    {
     "name": "stdout",
     "output_type": "stream",
     "text": [
      "(32, 224, 224, 3)\n",
      "(32,)\n"
     ]
    }
   ],
   "source": [
    "for image_batch, labels_batch in train_ds:\n",
    "    print(image_batch.shape)\n",
    "    print(labels_batch.shape)\n",
    "    break"
   ]
  },
  {
   "cell_type": "code",
   "execution_count": 6,
   "id": "4bc256e2",
   "metadata": {
    "execution": {
     "iopub.execute_input": "2021-10-22T12:28:01.073672Z",
     "iopub.status.busy": "2021-10-22T12:28:01.072882Z",
     "iopub.status.idle": "2021-10-22T12:28:01.724964Z",
     "shell.execute_reply": "2021-10-22T12:28:01.724386Z",
     "shell.execute_reply.started": "2021-10-22T10:30:13.680661Z"
    },
    "papermill": {
     "duration": 0.668995,
     "end_time": "2021-10-22T12:28:01.725215",
     "exception": false,
     "start_time": "2021-10-22T12:28:01.056220",
     "status": "completed"
    },
    "tags": []
   },
   "outputs": [
    {
     "data": {
      "text/plain": [
       "(<tf.Tensor: shape=(224, 224, 3), dtype=float32, numpy=\n",
       " array([[[  5.        ,   3.        ,   4.        ],\n",
       "         [ 18.214289  ,  16.214289  ,  17.214289  ],\n",
       "         [ 39.357143  ,  37.357143  ,  38.357143  ],\n",
       "         ...,\n",
       "         [125.14287   , 125.14287   , 125.14287   ],\n",
       "         [126.28572   , 126.28572   , 126.28572   ],\n",
       "         [127.        , 127.        , 127.        ]],\n",
       " \n",
       "        [[  3.5714283 ,   1.9285712 ,   2.5714283 ],\n",
       "         [ 13.469389  ,  11.826532  ,  12.469389  ],\n",
       "         [ 29.306122  ,  27.663265  ,  28.306122  ],\n",
       "         ...,\n",
       "         [126.57144   , 126.57144   , 126.57144   ],\n",
       "         [127.714294  , 127.714294  , 127.714294  ],\n",
       "         [128.42857   , 128.42857   , 128.42857   ]],\n",
       " \n",
       "        [[  1.2857141 ,   0.21428561,   0.28571415],\n",
       "         [  5.877551  ,   4.806123  ,   4.877551  ],\n",
       "         [ 13.224489  ,  12.153061  ,  12.224489  ],\n",
       "         ...,\n",
       "         [128.85715   , 128.85715   , 128.85715   ],\n",
       "         [130.        , 130.        , 130.        ],\n",
       "         [130.71428   , 130.71428   , 130.71428   ]],\n",
       " \n",
       "        ...,\n",
       " \n",
       "        [[  9.        ,   5.928566  ,   6.928566  ],\n",
       "         [  9.714286  ,   5.928566  ,   7.285709  ],\n",
       "         [ 10.857143  ,   5.928566  ,   7.8571377 ],\n",
       "         ...,\n",
       "         [  4.0663314 ,   4.8622346 ,   6.0663314 ],\n",
       "         [  4.0255117 ,   4.331628  ,   5.4540854 ],\n",
       "         [  4.        ,   4.        ,   5.071434  ]],\n",
       " \n",
       "        [[  9.        ,   5.3571396 ,   6.3571396 ],\n",
       "         [  9.714286  ,   5.3571396 ,   6.7142825 ],\n",
       "         [ 10.857143  ,   5.3571396 ,   7.2857113 ],\n",
       "         ...,\n",
       "         [  4.596938  ,   4.331628  ,   7.1683645 ],\n",
       "         [  4.229591  ,   4.1275487 ,   6.229591  ],\n",
       "         [  4.        ,   4.        ,   5.6428604 ]],\n",
       " \n",
       "        [[  9.        ,   5.        ,   6.        ],\n",
       "         [  9.714286  ,   5.        ,   6.357143  ],\n",
       "         [ 10.857143  ,   5.        ,   6.9285717 ],\n",
       "         ...,\n",
       "         [  4.928566  ,   4.        ,   7.857132  ],\n",
       "         [  4.3571396 ,   4.        ,   6.714279  ],\n",
       "         [  4.        ,   4.        ,   6.        ]]], dtype=float32)>,\n",
       " <tf.Tensor: shape=(), dtype=int32, numpy=2>)"
      ]
     },
     "execution_count": 6,
     "metadata": {},
     "output_type": "execute_result"
    }
   ],
   "source": [
    "image_batch, labels_batch = next(iter(train_ds))\n",
    "image_batch[0], labels_batch[0]"
   ]
  },
  {
   "cell_type": "code",
   "execution_count": 7,
   "id": "359910c8",
   "metadata": {
    "execution": {
     "iopub.execute_input": "2021-10-22T12:28:01.756273Z",
     "iopub.status.busy": "2021-10-22T12:28:01.755038Z",
     "iopub.status.idle": "2021-10-22T12:28:01.760829Z",
     "shell.execute_reply": "2021-10-22T12:28:01.760378Z",
     "shell.execute_reply.started": "2021-10-22T10:30:14.326565Z"
    },
    "papermill": {
     "duration": 0.023149,
     "end_time": "2021-10-22T12:28:01.760943",
     "exception": false,
     "start_time": "2021-10-22T12:28:01.737794",
     "status": "completed"
    },
    "tags": []
   },
   "outputs": [],
   "source": [
    "AUTOTUNE = tf.data.AUTOTUNE\n",
    "\n",
    "train_ds = train_ds.cache().prefetch(buffer_size=AUTOTUNE)\n",
    "val_ds = val_ds.cache().prefetch(buffer_size=AUTOTUNE)"
   ]
  },
  {
   "cell_type": "code",
   "execution_count": 8,
   "id": "2c9af415",
   "metadata": {
    "execution": {
     "iopub.execute_input": "2021-10-22T12:28:01.792385Z",
     "iopub.status.busy": "2021-10-22T12:28:01.791801Z",
     "iopub.status.idle": "2021-10-22T12:28:03.255526Z",
     "shell.execute_reply": "2021-10-22T12:28:03.254592Z",
     "shell.execute_reply.started": "2021-10-22T10:38:29.532231Z"
    },
    "papermill": {
     "duration": 1.48248,
     "end_time": "2021-10-22T12:28:03.255691",
     "exception": false,
     "start_time": "2021-10-22T12:28:01.773211",
     "status": "completed"
    },
    "tags": []
   },
   "outputs": [
    {
     "name": "stdout",
     "output_type": "stream",
     "text": [
      "Downloading data from https://storage.googleapis.com/tensorflow/keras-applications/mobilenet_v2/mobilenet_v2_weights_tf_dim_ordering_tf_kernels_1.0_224_no_top.h5\n",
      "9412608/9406464 [==============================] - 0s 0us/step\n",
      "9420800/9406464 [==============================] - 0s 0us/step\n"
     ]
    }
   ],
   "source": [
    "model = tf.keras.Sequential()\n",
    "\n",
    "model.add(layers.experimental.preprocessing.Rescaling(1./255, input_shape=(224,224,3)))\n",
    "model.add(MobileNetV2(weights=\"imagenet\", include_top=False))\n",
    "\n",
    "model.add(layers.AveragePooling2D(pool_size=(7, 7)))\n",
    "model.add(layers.Flatten())\n",
    "\n",
    "model.add(layers.Dense(128, activation='relu'))\n",
    "model.add(layers.Dropout(0.3))\n",
    "model.add(layers.Dense(32, activation='relu'))\n",
    "\n",
    "model.add(layers.Dense(3, activation='softmax'))"
   ]
  },
  {
   "cell_type": "code",
   "execution_count": 9,
   "id": "362545b5",
   "metadata": {
    "execution": {
     "iopub.execute_input": "2021-10-22T12:28:03.302264Z",
     "iopub.status.busy": "2021-10-22T12:28:03.289867Z",
     "iopub.status.idle": "2021-10-22T12:28:03.305241Z",
     "shell.execute_reply": "2021-10-22T12:28:03.305697Z",
     "shell.execute_reply.started": "2021-10-22T10:38:31.011011Z"
    },
    "papermill": {
     "duration": 0.036117,
     "end_time": "2021-10-22T12:28:03.305834",
     "exception": false,
     "start_time": "2021-10-22T12:28:03.269717",
     "status": "completed"
    },
    "tags": []
   },
   "outputs": [
    {
     "name": "stdout",
     "output_type": "stream",
     "text": [
      "Model: \"sequential\"\n",
      "_________________________________________________________________\n",
      "Layer (type)                 Output Shape              Param #   \n",
      "=================================================================\n",
      "rescaling (Rescaling)        (None, 224, 224, 3)       0         \n",
      "_________________________________________________________________\n",
      "mobilenetv2_1.00_224 (Functi (None, None, None, 1280)  2257984   \n",
      "_________________________________________________________________\n",
      "average_pooling2d (AveragePo (None, 1, 1, 1280)        0         \n",
      "_________________________________________________________________\n",
      "flatten (Flatten)            (None, 1280)              0         \n",
      "_________________________________________________________________\n",
      "dense (Dense)                (None, 128)               163968    \n",
      "_________________________________________________________________\n",
      "dropout (Dropout)            (None, 128)               0         \n",
      "_________________________________________________________________\n",
      "dense_1 (Dense)              (None, 32)                4128      \n",
      "_________________________________________________________________\n",
      "dense_2 (Dense)              (None, 3)                 99        \n",
      "=================================================================\n",
      "Total params: 2,426,179\n",
      "Trainable params: 2,392,067\n",
      "Non-trainable params: 34,112\n",
      "_________________________________________________________________\n"
     ]
    }
   ],
   "source": [
    "model.summary()"
   ]
  },
  {
   "cell_type": "code",
   "execution_count": 10,
   "id": "9867e8a0",
   "metadata": {
    "execution": {
     "iopub.execute_input": "2021-10-22T12:28:03.344191Z",
     "iopub.status.busy": "2021-10-22T12:28:03.343382Z",
     "iopub.status.idle": "2021-10-22T12:28:03.350926Z",
     "shell.execute_reply": "2021-10-22T12:28:03.351416Z",
     "shell.execute_reply.started": "2021-10-22T10:38:31.206925Z"
    },
    "papermill": {
     "duration": 0.031852,
     "end_time": "2021-10-22T12:28:03.351570",
     "exception": false,
     "start_time": "2021-10-22T12:28:03.319718",
     "status": "completed"
    },
    "tags": []
   },
   "outputs": [],
   "source": [
    "model.compile(optimizer=tf.keras.optimizers.Adam(learning_rate=0.001), loss='sparse_categorical_crossentropy', metrics=['accuracy'])"
   ]
  },
  {
   "cell_type": "code",
   "execution_count": 11,
   "id": "80a0230a",
   "metadata": {
    "execution": {
     "iopub.execute_input": "2021-10-22T12:28:03.385177Z",
     "iopub.status.busy": "2021-10-22T12:28:03.384452Z",
     "iopub.status.idle": "2021-10-22T12:34:43.699912Z",
     "shell.execute_reply": "2021-10-22T12:34:43.700430Z",
     "shell.execute_reply.started": "2021-10-22T10:38:39.823521Z"
    },
    "papermill": {
     "duration": 400.334757,
     "end_time": "2021-10-22T12:34:43.700606",
     "exception": false,
     "start_time": "2021-10-22T12:28:03.365849",
     "status": "completed"
    },
    "tags": []
   },
   "outputs": [
    {
     "name": "stdout",
     "output_type": "stream",
     "text": [
      "Epoch 1/10\n"
     ]
    },
    {
     "name": "stderr",
     "output_type": "stream",
     "text": [
      "2021-10-22 12:28:08.440904: I tensorflow/stream_executor/cuda/cuda_dnn.cc:369] Loaded cuDNN version 8005\n"
     ]
    },
    {
     "name": "stdout",
     "output_type": "stream",
     "text": [
      "225/225 [==============================] - 54s 193ms/step - loss: 0.1551 - accuracy: 0.9507 - val_loss: 0.8506 - val_accuracy: 0.9254\n",
      "\n",
      "Epoch 00001: val_accuracy improved from -inf to 0.92539, saving model to MaskDetection.h5\n",
      "Epoch 2/10\n",
      "225/225 [==============================] - 36s 161ms/step - loss: 0.0790 - accuracy: 0.9773 - val_loss: 0.7779 - val_accuracy: 0.9271\n",
      "\n",
      "Epoch 00002: val_accuracy improved from 0.92539 to 0.92706, saving model to MaskDetection.h5\n",
      "Epoch 3/10\n",
      "225/225 [==============================] - 36s 159ms/step - loss: 0.0563 - accuracy: 0.9825 - val_loss: 11.2535 - val_accuracy: 0.5473\n",
      "\n",
      "Epoch 00003: val_accuracy did not improve from 0.92706\n",
      "Epoch 4/10\n",
      "225/225 [==============================] - 36s 159ms/step - loss: 0.0355 - accuracy: 0.9875 - val_loss: 3.6872 - val_accuracy: 0.8224\n",
      "\n",
      "Epoch 00004: val_accuracy did not improve from 0.92706\n",
      "Epoch 5/10\n",
      "225/225 [==============================] - 37s 165ms/step - loss: 0.0362 - accuracy: 0.9903 - val_loss: 3.4311 - val_accuracy: 0.7199\n",
      "\n",
      "Epoch 00005: val_accuracy did not improve from 0.92706\n",
      "Epoch 6/10\n",
      "225/225 [==============================] - 36s 158ms/step - loss: 0.0344 - accuracy: 0.9901 - val_loss: 2.0088 - val_accuracy: 0.8385\n",
      "\n",
      "Epoch 00006: val_accuracy did not improve from 0.92706\n",
      "Epoch 7/10\n",
      "225/225 [==============================] - 36s 159ms/step - loss: 0.0151 - accuracy: 0.9957 - val_loss: 1.5229 - val_accuracy: 0.8831\n",
      "\n",
      "Epoch 00007: val_accuracy did not improve from 0.92706\n",
      "Epoch 8/10\n",
      "225/225 [==============================] - 36s 159ms/step - loss: 0.0324 - accuracy: 0.9901 - val_loss: 4.2548 - val_accuracy: 0.6665\n",
      "\n",
      "Epoch 00008: val_accuracy did not improve from 0.92706\n",
      "Epoch 9/10\n",
      "225/225 [==============================] - 36s 159ms/step - loss: 0.0310 - accuracy: 0.9912 - val_loss: 1.0413 - val_accuracy: 0.9031\n",
      "\n",
      "Epoch 00009: val_accuracy did not improve from 0.92706\n",
      "Epoch 10/10\n",
      "225/225 [==============================] - 36s 160ms/step - loss: 0.0172 - accuracy: 0.9942 - val_loss: 0.3973 - val_accuracy: 0.9516\n",
      "\n",
      "Epoch 00010: val_accuracy improved from 0.92706 to 0.95156, saving model to MaskDetection.h5\n"
     ]
    },
    {
     "data": {
      "text/plain": [
       "<keras.callbacks.History at 0x7fc37c063b10>"
      ]
     },
     "execution_count": 11,
     "metadata": {},
     "output_type": "execute_result"
    }
   ],
   "source": [
    "save_best = tf.keras.callbacks.ModelCheckpoint(\"MaskDetection.h5\",monitor='val_accuracy',save_best_only=True, verbose=1)\n",
    "\n",
    "model.fit(train_ds, validation_data=val_ds, epochs=10, callbacks=[save_best])"
   ]
  },
  {
   "cell_type": "code",
   "execution_count": 12,
   "id": "1078187d",
   "metadata": {
    "execution": {
     "iopub.execute_input": "2021-10-22T12:34:44.961002Z",
     "iopub.status.busy": "2021-10-22T12:34:44.960237Z",
     "iopub.status.idle": "2021-10-22T12:34:46.568462Z",
     "shell.execute_reply": "2021-10-22T12:34:46.568006Z",
     "shell.execute_reply.started": "2021-10-22T10:45:39.257399Z"
    },
    "papermill": {
     "duration": 2.228056,
     "end_time": "2021-10-22T12:34:46.568588",
     "exception": false,
     "start_time": "2021-10-22T12:34:44.340532",
     "status": "completed"
    },
    "tags": []
   },
   "outputs": [
    {
     "name": "stdout",
     "output_type": "stream",
     "text": [
      "57/57 [==============================] - 2s 28ms/step - loss: 0.3973 - accuracy: 0.9516\n"
     ]
    },
    {
     "data": {
      "text/plain": [
       "[0.3972527086734772, 0.9515590071678162]"
      ]
     },
     "execution_count": 12,
     "metadata": {},
     "output_type": "execute_result"
    }
   ],
   "source": [
    "model.evaluate(val_ds)"
   ]
  },
  {
   "cell_type": "code",
   "execution_count": 13,
   "id": "7fb87e43",
   "metadata": {
    "execution": {
     "iopub.execute_input": "2021-10-22T12:34:47.779883Z",
     "iopub.status.busy": "2021-10-22T12:34:47.775977Z",
     "iopub.status.idle": "2021-10-22T12:34:48.583805Z",
     "shell.execute_reply": "2021-10-22T12:34:48.584260Z",
     "shell.execute_reply.started": "2021-10-22T10:57:05.682166Z"
    },
    "papermill": {
     "duration": 1.413803,
     "end_time": "2021-10-22T12:34:48.584429",
     "exception": false,
     "start_time": "2021-10-22T12:34:47.170626",
     "status": "completed"
    },
    "tags": []
   },
   "outputs": [
    {
     "name": "stdout",
     "output_type": "stream",
     "text": [
      "[[0. 1. 0.]]\n",
      "tf.Tensor(1, shape=(), dtype=int32)\n"
     ]
    }
   ],
   "source": [
    "for image_batch, labels_batch in val_ds:\n",
    "    pred = model.predict(image_batch[8].numpy().reshape(-1,224,224,3))\n",
    "    print(pred.round())\n",
    "    print(labels_batch[8])\n",
    "    break"
   ]
  }
 ],
 "metadata": {
  "kernelspec": {
   "display_name": "Python 3",
   "language": "python",
   "name": "python3"
  },
  "language_info": {
   "codemirror_mode": {
    "name": "ipython",
    "version": 3
   },
   "file_extension": ".py",
   "mimetype": "text/x-python",
   "name": "python",
   "nbconvert_exporter": "python",
   "pygments_lexer": "ipython3",
   "version": "3.7.10"
  },
  "papermill": {
   "default_parameters": {},
   "duration": 438.509028,
   "end_time": "2021-10-22T12:34:52.927880",
   "environment_variables": {},
   "exception": null,
   "input_path": "__notebook__.ipynb",
   "output_path": "__notebook__.ipynb",
   "parameters": {},
   "start_time": "2021-10-22T12:27:34.418852",
   "version": "2.3.3"
  }
 },
 "nbformat": 4,
 "nbformat_minor": 5
}
